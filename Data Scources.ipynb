{
 "cells": [
  {
   "cell_type": "code",
   "execution_count": 1,
   "id": "98b7f82a",
   "metadata": {},
   "outputs": [],
   "source": [
    "#Padas-datareader"
   ]
  },
  {
   "cell_type": "code",
   "execution_count": 2,
   "id": "8662d7ae",
   "metadata": {},
   "outputs": [],
   "source": [
    "#Quandl"
   ]
  },
  {
   "cell_type": "code",
   "execution_count": 2,
   "id": "da792fb8",
   "metadata": {},
   "outputs": [],
   "source": [
    "import pandas_datareader.data as web"
   ]
  },
  {
   "cell_type": "code",
   "execution_count": 3,
   "id": "3228c2c5",
   "metadata": {},
   "outputs": [],
   "source": [
    "import datetime"
   ]
  },
  {
   "cell_type": "code",
   "execution_count": 14,
   "id": "4f4babe2",
   "metadata": {},
   "outputs": [],
   "source": [
    "start = datetime.datetime(2015,1,1)\n",
    "end = datetime.datetime(2017,1,1)"
   ]
  },
  {
   "cell_type": "code",
   "execution_count": 15,
   "id": "a1db5f0f",
   "metadata": {},
   "outputs": [],
   "source": [
    "facebook= web.DataReader('FB','yahoo',start,end)"
   ]
  },
  {
   "cell_type": "code",
   "execution_count": 16,
   "id": "90afc5c2",
   "metadata": {},
   "outputs": [
    {
     "data": {
      "text/html": [
       "<div>\n",
       "<style scoped>\n",
       "    .dataframe tbody tr th:only-of-type {\n",
       "        vertical-align: middle;\n",
       "    }\n",
       "\n",
       "    .dataframe tbody tr th {\n",
       "        vertical-align: top;\n",
       "    }\n",
       "\n",
       "    .dataframe thead th {\n",
       "        text-align: right;\n",
       "    }\n",
       "</style>\n",
       "<table border=\"1\" class=\"dataframe\">\n",
       "  <thead>\n",
       "    <tr style=\"text-align: right;\">\n",
       "      <th></th>\n",
       "      <th>High</th>\n",
       "      <th>Low</th>\n",
       "      <th>Open</th>\n",
       "      <th>Close</th>\n",
       "      <th>Volume</th>\n",
       "      <th>Adj Close</th>\n",
       "    </tr>\n",
       "    <tr>\n",
       "      <th>Date</th>\n",
       "      <th></th>\n",
       "      <th></th>\n",
       "      <th></th>\n",
       "      <th></th>\n",
       "      <th></th>\n",
       "      <th></th>\n",
       "    </tr>\n",
       "  </thead>\n",
       "  <tbody>\n",
       "    <tr>\n",
       "      <th>2021-11-09</th>\n",
       "      <td>341.309998</td>\n",
       "      <td>334.470001</td>\n",
       "      <td>340.000000</td>\n",
       "      <td>335.369995</td>\n",
       "      <td>17556700</td>\n",
       "      <td>335.369995</td>\n",
       "    </tr>\n",
       "    <tr>\n",
       "      <th>2021-11-10</th>\n",
       "      <td>333.190002</td>\n",
       "      <td>325.510010</td>\n",
       "      <td>332.489990</td>\n",
       "      <td>327.640015</td>\n",
       "      <td>21872600</td>\n",
       "      <td>327.640015</td>\n",
       "    </tr>\n",
       "    <tr>\n",
       "      <th>2021-11-11</th>\n",
       "      <td>332.459991</td>\n",
       "      <td>327.000000</td>\n",
       "      <td>329.820007</td>\n",
       "      <td>327.739990</td>\n",
       "      <td>12376600</td>\n",
       "      <td>327.739990</td>\n",
       "    </tr>\n",
       "    <tr>\n",
       "      <th>2021-11-12</th>\n",
       "      <td>341.859985</td>\n",
       "      <td>329.779999</td>\n",
       "      <td>330.179993</td>\n",
       "      <td>340.890015</td>\n",
       "      <td>25414300</td>\n",
       "      <td>340.890015</td>\n",
       "    </tr>\n",
       "    <tr>\n",
       "      <th>2021-11-15</th>\n",
       "      <td>353.649994</td>\n",
       "      <td>343.200012</td>\n",
       "      <td>344.339996</td>\n",
       "      <td>347.559998</td>\n",
       "      <td>25076600</td>\n",
       "      <td>347.559998</td>\n",
       "    </tr>\n",
       "  </tbody>\n",
       "</table>\n",
       "</div>"
      ],
      "text/plain": [
       "                  High         Low        Open       Close    Volume  \\\n",
       "Date                                                                   \n",
       "2021-11-09  341.309998  334.470001  340.000000  335.369995  17556700   \n",
       "2021-11-10  333.190002  325.510010  332.489990  327.640015  21872600   \n",
       "2021-11-11  332.459991  327.000000  329.820007  327.739990  12376600   \n",
       "2021-11-12  341.859985  329.779999  330.179993  340.890015  25414300   \n",
       "2021-11-15  353.649994  343.200012  344.339996  347.559998  25076600   \n",
       "\n",
       "             Adj Close  \n",
       "Date                    \n",
       "2021-11-09  335.369995  \n",
       "2021-11-10  327.640015  \n",
       "2021-11-11  327.739990  \n",
       "2021-11-12  340.890015  \n",
       "2021-11-15  347.559998  "
      ]
     },
     "execution_count": 16,
     "metadata": {},
     "output_type": "execute_result"
    }
   ],
   "source": [
    "facebook.head()"
   ]
  },
  {
   "cell_type": "code",
   "execution_count": 21,
   "id": "b8cceb77",
   "metadata": {},
   "outputs": [],
   "source": [
    "from pandas_datareader.data import Options\n",
    "fb_options = Options('FB','yahoo')"
   ]
  },
  {
   "cell_type": "code",
   "execution_count": 22,
   "id": "38196859",
   "metadata": {},
   "outputs": [],
   "source": [
    "options_df = fb_options.get_options_data(expiry = fb_options.expiry_dates[0])\n",
    "options_df.head()"
   ]
  },
  {
   "cell_type": "code",
   "execution_count": 23,
   "id": "9f81045d",
   "metadata": {},
   "outputs": [],
   "source": [
    "#Quandl"
   ]
  },
  {
   "cell_type": "code",
   "execution_count": 25,
   "id": "b338c437",
   "metadata": {},
   "outputs": [],
   "source": [
    "import quandl"
   ]
  },
  {
   "cell_type": "code",
   "execution_count": 36,
   "id": "8d8612b9",
   "metadata": {},
   "outputs": [],
   "source": [
    "mydata=quandl.get('EIA/PET_RWTC_D', returns='numpy')"
   ]
  },
  {
   "cell_type": "code",
   "execution_count": 31,
   "id": "3f3493ec",
   "metadata": {},
   "outputs": [],
   "source": [
    "import matplotlib.pyplot as plt \n",
    "%matplotlib inline"
   ]
  },
  {
   "cell_type": "code",
   "execution_count": 37,
   "id": "61255f22",
   "metadata": {},
   "outputs": [
    {
     "data": {
      "text/plain": [
       "rec.array([('1986-01-02T00:00:00.000000000', 25.56),\n",
       "           ('1986-01-03T00:00:00.000000000', 26.  ),\n",
       "           ('1986-01-06T00:00:00.000000000', 26.53), ...,\n",
       "           ('2022-02-04T00:00:00.000000000', 92.27),\n",
       "           ('2022-02-07T00:00:00.000000000', 91.25),\n",
       "           ('2022-02-08T00:00:00.000000000', 89.32)],\n",
       "          dtype=[('Date', '<M8[ns]'), ('Value', '<f8')])"
      ]
     },
     "execution_count": 37,
     "metadata": {},
     "output_type": "execute_result"
    }
   ],
   "source": [
    "mydata"
   ]
  },
  {
   "cell_type": "code",
   "execution_count": 32,
   "id": "986f03af",
   "metadata": {},
   "outputs": [
    {
     "data": {
      "text/plain": [
       "<AxesSubplot:xlabel='Date'>"
      ]
     },
     "execution_count": 32,
     "metadata": {},
     "output_type": "execute_result"
    },
    {
     "data": {
      "image/png": "[encoded data removed]",
      "text/plain": [
       "<Figure size 640x480 with 1 Axes>"
      ]
     },
     "metadata": {},
     "output_type": "display_data"
    }
   ],
   "source": [
    "mydata.plot()"
   ]
  },
  {
   "cell_type": "code",
   "execution_count": null,
   "id": "5a494e34",
   "metadata": {},
   "outputs": [],
   "source": []
  }
 ],
 "metadata": {
  "kernelspec": {
   "display_name": "Python 3 (ipykernel)",
   "language": "python",
   "name": "python3"
  },
  "language_info": {
   "codemirror_mode": {
    "name": "ipython",
    "version": 3
   },
   "file_extension": ".py",
   "mimetype": "text/x-python",
   "name": "python",
   "nbconvert_exporter": "python",
   "pygments_lexer": "ipython3",
   "version": "3.9.13"
  }
 },
 "nbformat": 4,
 "nbformat_minor": 5
}
